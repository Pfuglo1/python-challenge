{
 "cells": [
  {
   "cell_type": "code",
   "execution_count": null,
   "id": "48f85528-4f09-4e52-8c1e-f38d786aac0f",
   "metadata": {},
   "outputs": [],
   "source": []
  }
 ],
 "metadata": {
  "kernelspec": {
   "display_name": "",
   "name": ""
  },
  "language_info": {
   "name": ""
  }
 },
 "nbformat": 4,
 "nbformat_minor": 5
}
