{
 "cells": [
  {
   "cell_type": "code",
   "execution_count": null,
   "id": "7e878e5b-78a8-4cb3-a8d1-680eb0c675f2",
   "metadata": {},
   "outputs": [],
   "source": []
  }
 ],
 "metadata": {
  "kernelspec": {
   "display_name": "",
   "name": ""
  },
  "language_info": {
   "name": ""
  }
 },
 "nbformat": 4,
 "nbformat_minor": 5
}
